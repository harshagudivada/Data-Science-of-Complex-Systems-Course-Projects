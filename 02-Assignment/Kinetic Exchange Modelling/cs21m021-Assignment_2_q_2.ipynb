{
  "nbformat": 4,
  "nbformat_minor": 0,
  "metadata": {
    "colab": {
      "name": "Assignment-2-q-2.ipynb",
      "provenance": [],
      "collapsed_sections": [],
      "toc_visible": true
    },
    "kernelspec": {
      "name": "python3",
      "display_name": "Python 3"
    },
    "language_info": {
      "name": "python"
    }
  },
  "cells": [
    {
      "cell_type": "markdown",
      "source": [
        "#Effect of Saving propensity on inequality in CC model"
      ],
      "metadata": {
        "id": "xoA-DlqoOrYC"
      }
    },
    {
      "cell_type": "markdown",
      "source": [
        "#Importing libraries"
      ],
      "metadata": {
        "id": "QHdWWcDqkjrI"
      }
    },
    {
      "cell_type": "code",
      "source": [
        "import pandas as pd\n",
        "import numpy as np\n",
        "import random\n",
        "import matplotlib.pyplot as plt\n",
        "import seaborn as sns\n",
        "\n",
        "random.seed(0)"
      ],
      "metadata": {
        "id": "FWavvgi2Uisz"
      },
      "execution_count": 1,
      "outputs": []
    },
    {
      "cell_type": "markdown",
      "source": [
        "#Modelling A. Chakraborti and B.K. Chakrabarti (CC) model "
      ],
      "metadata": {
        "id": "ssxHMubqkVQq"
      }
    },
    {
      "cell_type": "code",
      "execution_count": 2,
      "metadata": {
        "id": "P77Onv8TpFRX"
      },
      "outputs": [],
      "source": [
        "def cc_model(saving_propensity, number_of_trades):\n",
        "  number_of_agents = 200\n",
        "  initial_money_per_agent = 1\n",
        "  wealth_of_agents = [initial_money_per_agent]*number_of_agents\n",
        "\n",
        "  for trade in range(number_of_trades):\n",
        "    #Return a k length list of unique elements chosen from the population sequence or set. \n",
        "    #Used for random sampling without replacement.\n",
        "    agent_1, agent_2 = random.sample(range(number_of_agents),2) \n",
        "    epsilon = random.random() #[0,1)\n",
        "\n",
        "    wealth_of_agents[agent_1], wealth_of_agents[agent_2] = ( ( saving_propensity*wealth_of_agents[agent_1] + epsilon*(1-saving_propensity)*(wealth_of_agents[agent_1] + wealth_of_agents[agent_2]) ),\n",
        "                                                            ( saving_propensity*wealth_of_agents[agent_2] + (1-epsilon)*(1-saving_propensity)*(wealth_of_agents[agent_1] + wealth_of_agents[agent_2]) ) )\n",
        "  return wealth_of_agents\n"
      ]
    },
    {
      "cell_type": "markdown",
      "source": [
        "#Calculating Gini coefficient"
      ],
      "metadata": {
        "id": "4bVeEQXfkupY"
      }
    },
    {
      "cell_type": "code",
      "source": [
        "def get_gini_coefficient(wealth_of_agents):\n",
        "  diffsum = 0\n",
        "  for i, xi in enumerate(wealth_of_agents[:-1], 1):\n",
        "    diffsum += np.sum(np.abs(xi - wealth_of_agents[i:]))\n",
        "  return diffsum / (len(wealth_of_agents)**2 * np.mean(wealth_of_agents))"
      ],
      "metadata": {
        "id": "-9R_490vkz0Q"
      },
      "execution_count": 3,
      "outputs": []
    },
    {
      "cell_type": "markdown",
      "source": [
        "#Creating data points"
      ],
      "metadata": {
        "id": "OJbpRtIZnuLZ"
      }
    },
    {
      "cell_type": "code",
      "source": [
        "def create_data_points(nuber_of_saving_propensities, number_of_trades):\n",
        "  x = []\n",
        "  y = []\n",
        "\n",
        "  for saving_propensity in np.linspace(0,1,nuber_of_saving_propensities):\n",
        "    x.append(saving_propensity)\n",
        "    wealth_of_agents_after_trades = np.array(cc_model(saving_propensity, number_of_trades))\n",
        "    y.append(get_gini_coefficient(wealth_of_agents_after_trades))\n",
        "  return x,y"
      ],
      "metadata": {
        "id": "25sdvfn6w93W"
      },
      "execution_count": 4,
      "outputs": []
    },
    {
      "cell_type": "code",
      "source": [
        "nuber_of_saving_propensities = 30\n",
        "number_of_trades = 10**4\n",
        "x,y = create_data_points(nuber_of_saving_propensities, number_of_trades)"
      ],
      "metadata": {
        "id": "OXeN4tx8-OB4"
      },
      "execution_count": 14,
      "outputs": []
    },
    {
      "cell_type": "markdown",
      "source": [
        "#Scatter Plot"
      ],
      "metadata": {
        "id": "3dR3H9nc0fB8"
      }
    },
    {
      "cell_type": "code",
      "source": [
        "plt.scatter(x,y)\n",
        "plt.xlabel(\"Saving Propensity\")\n",
        "plt.ylabel(\"Gini Coefficient\")\n",
        "plt.title(\"Influence of Saving Propensity on Inequality - A scatter plot\")\n",
        "plt.show()"
      ],
      "metadata": {
        "colab": {
          "base_uri": "https://localhost:8080/",
          "height": 295
        },
        "id": "1EMWo8Ir1nvc",
        "outputId": "6d3344e3-9ce7-4426-a303-c691747f7dfd"
      },
      "execution_count": 16,
      "outputs": [
        {
          "output_type": "display_data",
          "data": {
            "text/plain": [
              "<Figure size 432x288 with 1 Axes>"
            ],
            "image/png": "[encoded data removed]"
          },
          "metadata": {
            "needs_background": "light"
          }
        }
      ]
    },
    {
      "cell_type": "markdown",
      "source": [
        "#Hypothesis"
      ],
      "metadata": {
        "id": "9cayW4Jf7lcC"
      }
    },
    {
      "cell_type": "markdown",
      "source": [
        "Inequality, hence the Gini coefficient decreases as saving propensity increases."
      ],
      "metadata": {
        "id": "8C0PGCkj7vva"
      }
    },
    {
      "cell_type": "markdown",
      "source": [
        "#Testing Hypothesis using Linear Regression"
      ],
      "metadata": {
        "id": "uAaQ8oWS76EF"
      }
    },
    {
      "cell_type": "code",
      "source": [
        "#obtain m (slope) and c(intercept) of linear regression line\n",
        "m, c = np.polyfit(x, y, 1)\n",
        "\n",
        "print('Slope(m) of linear regression line = ', m, '\\n')\n",
        "\n",
        "#use red as color for regression line\n",
        "plt.plot(x, m*np.array(x)+c, color='red')\n",
        "\n",
        "plt.scatter(x,y)\n",
        "plt.xlabel(\"Saving Propensity\")\n",
        "plt.ylabel(\"Gini Coefficient\")\n",
        "plt.title(f'Saving Propensity vs Inequality - Linear Regression')\n",
        "\n",
        "plt.text(0.5,0.4,f'Slope = {m}')\n",
        "\n",
        "plt.show()"
      ],
      "metadata": {
        "colab": {
          "base_uri": "https://localhost:8080/",
          "height": 331
        },
        "id": "wZ_yQHLn7kdB",
        "outputId": "6dfa95dd-df91-4d31-8d95-f79898217c6b"
      },
      "execution_count": 27,
      "outputs": [
        {
          "output_type": "stream",
          "name": "stdout",
          "text": [
            "Slope(m) of linear regression line =  -0.4221556477215364 \n",
            "\n"
          ]
        },
        {
          "output_type": "display_data",
          "data": {
            "text/plain": [
              "<Figure size 432x288 with 1 Axes>"
            ],
            "image/png": "[encoded data removed]"
          },
          "metadata": {
            "needs_background": "light"
          }
        }
      ]
    },
    {
      "cell_type": "markdown",
      "source": [
        "#Testing hypothesis using Correlation Coefficient"
      ],
      "metadata": {
        "id": "VLqNMykWE7-B"
      }
    },
    {
      "cell_type": "code",
      "source": [
        "correlation_matrix = np.corrcoef(x,y)\n",
        "print(correlation_matrix)\n",
        "print('Correlation Coefficient = ', correlation_matrix[0,1])"
      ],
      "metadata": {
        "colab": {
          "base_uri": "https://localhost:8080/"
        },
        "id": "JH8bKNFFFBE7",
        "outputId": "e5882e82-cfa9-4816-b5c9-55e92aba3434"
      },
      "execution_count": 28,
      "outputs": [
        {
          "output_type": "stream",
          "name": "stdout",
          "text": [
            "[[ 1.         -0.99076783]\n",
            " [-0.99076783  1.        ]]\n",
            "Correlation Coefficient =  -0.9907678288236917\n"
          ]
        }
      ]
    },
    {
      "cell_type": "markdown",
      "source": [
        ""
      ],
      "metadata": {
        "id": "XogB414dOqYt"
      }
    }
  ]
}